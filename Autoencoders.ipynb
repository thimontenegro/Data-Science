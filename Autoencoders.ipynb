{
  "nbformat": 4,
  "nbformat_minor": 0,
  "metadata": {
    "colab": {
      "name": "Autoencoders.ipynb",
      "provenance": [],
      "mount_file_id": "1zuYkXigDOyba44QXz7JnY6kohUFZwHAH",
      "authorship_tag": "ABX9TyMjKICWWSOCtrGshhPyuwtW",
      "include_colab_link": true
    },
    "kernelspec": {
      "name": "python3",
      "display_name": "Python 3"
    }
  },
  "cells": [
    {
      "cell_type": "markdown",
      "metadata": {
        "id": "view-in-github",
        "colab_type": "text"
      },
      "source": [
        "<a href=\"https://colab.research.google.com/github/thimontenegro/Data-Science/blob/master/Autoencoders.ipynb\" target=\"_parent\"><img src=\"https://colab.research.google.com/assets/colab-badge.svg\" alt=\"Open In Colab\"/></a>"
      ]
    },
    {
      "cell_type": "markdown",
      "metadata": {
        "id": "ACYoqANLV3Rj",
        "colab_type": "text"
      },
      "source": [
        "# AutoEncoders\n",
        "\n",
        "\n",
        "* We will use autoencoders for dimensionality reduction and noise removal.\n",
        "\n",
        "* During the training of certain models, we will sometimes, use historical data with correct labels, however during the actual use of the model, we won't be able to use our previous evaluation metrics.\n",
        "\n",
        "* Unsupervisded Learning means we won't have 'correct' labels to comapare our results to.\n",
        "\n",
        "* Our use case for autoencoders in this sections are sometimes called semi-supervised.\n",
        "\n",
        "* Semi-supervised because we have the ability to use correct labels during the training of the autoencoders, but actually using the autoencoder we can't produce metrics such as accuracy or RMSE.\n",
        "\n"
      ]
    },
    {
      "cell_type": "markdown",
      "metadata": {
        "id": "Ax88STLtXUWJ",
        "colab_type": "text"
      },
      "source": [
        "## Basics\n",
        "\n",
        "* The autoencoder is actually a very simple neural network and feel similar to multi-layer perceptron model.\n",
        "\n",
        "* It  is designed to reproduce its input at the output layer.\n",
        "\n",
        "* The key difference between an autoencoder and a typical MLP network is that the number of input neurons is equal to the number of output neurons.\n",
        "\n",
        "* Let's explore what this looks like and why we would use it!\n",
        "\n",
        "* The Shape of A AutoEncoder is:\n",
        "\n",
        "  * 5 inputs neurons\n",
        "\n",
        "  * 3 Neurons on second layer\n",
        "\n",
        "  * 2 Neurons on third layer\n",
        "\n",
        "  * 3 Neurons on four layer\n",
        "\n",
        "  * 5 neurons as ouput layer\n",
        "\n",
        "* In order to produce the same output at the final layer, the internal hidden layers must learn what features are important.\n",
        "\n",
        "* Here we see a design of 5 dimensions reduced to 2 dimensions, then expaded back to the original 5\n",
        "\n",
        "  * 5 input neurons, 2 neurons on hidden layer, 5 output neurons\n",
        "\n",
        "* Feed forward network trained to reproduce its input at the output layer\n",
        "\n",
        "* Output size is the same as the output layer\n",
        "\n",
        "* The hidden representation attemps to maintain the important input information.\n",
        "\n",
        "* We can then use the hidden layer to extact meaninful insights\n",
        "\n",
        "* This idea is extremy similar to PCA - Principal Component Analysis\n",
        "\n",
        "* important Note!\n",
        "\n",
        "  * The hidden layer is not simple sub-selecting only certain features.\n",
        "\n",
        "  * Its calculating combinations of the original features represent the original data in a reduced dimensional space.\n",
        "\n",
        "\n",
        "* The main ideia behind an autoencoder:\n",
        "\n",
        "  * The center hidden layer reduced the dimensionality to learn the most important combinations of original features.\n",
        "\n",
        "* We'll explore 2 use cases:\n",
        "\n",
        "  * Dimensionality Reduction\n",
        "\n",
        "  * Noise removal\n",
        "\n"
      ]
    },
    {
      "cell_type": "markdown",
      "metadata": {
        "id": "6SWd6A3wbEfC",
        "colab_type": "text"
      },
      "source": [
        "## Autoencoder for Dimensionality Reduction\n",
        "* We can use an autoencoder for dimensionality reduction by separating it out into 2 parts:\n",
        "\n",
        "  * Encoder\n",
        "\n",
        "  * Decoder\n",
        "\n",
        "* This encoder can now sucessfully reduce dimensionality of the original data by taking combinations of the original features\n",
        "\n",
        "* Dimensionality Reduction\n",
        "\n",
        "  * Compress Data\n",
        "\n",
        "  * Visualize data in lower dimensions\n",
        "\n",
        "  * Reveal hidden relationships not cleary seen in higher dimensions\n",
        "\n",
        "  "
      ]
    },
    {
      "cell_type": "code",
      "metadata": {
        "id": "G8vVWQ9gdUvF",
        "colab_type": "code",
        "colab": {}
      },
      "source": [
        "import numpy as np\n",
        "import pandas as pd\n",
        "import seaborn as sns\n",
        "import matplotlib.pyplot as plt"
      ],
      "execution_count": 0,
      "outputs": []
    },
    {
      "cell_type": "code",
      "metadata": {
        "id": "z_oSr-s6dZrS",
        "colab_type": "code",
        "colab": {}
      },
      "source": [
        "from sklearn.datasets import make_blobs"
      ],
      "execution_count": 0,
      "outputs": []
    },
    {
      "cell_type": "code",
      "metadata": {
        "id": "87bjZmTpdhxy",
        "colab_type": "code",
        "colab": {}
      },
      "source": [
        "df = make_blobs(n_samples = 300, n_features = 2, centers = 2, cluster_std= 1.0,random_state=101)"
      ],
      "execution_count": 0,
      "outputs": []
    },
    {
      "cell_type": "code",
      "metadata": {
        "id": "4R-qis9Ud1dC",
        "colab_type": "code",
        "colab": {
          "base_uri": "https://localhost:8080/",
          "height": 1000
        },
        "outputId": "cb32c531-1ae7-42ea-d617-7f028fe464c7"
      },
      "source": [
        "df"
      ],
      "execution_count": 5,
      "outputs": [
        {
          "output_type": "execute_result",
          "data": {
            "text/plain": [
              "(array([[ -8.87772115,  -6.76007802],\n",
              "        [  0.630638  ,   3.10707466],\n",
              "        [ -0.24060881,   2.82068999],\n",
              "        [ -7.83909113,  -8.20754485],\n",
              "        [-10.9729082 ,  -7.39067645],\n",
              "        [-10.81648852,  -5.82372891],\n",
              "        [  0.96977807,   0.50825184],\n",
              "        [-10.29728144,  -7.21832357],\n",
              "        [  0.04271579,   3.50389089],\n",
              "        [  0.15391601,   2.19349145],\n",
              "        [ -9.81008003,  -5.35480445],\n",
              "        [-11.18334003,  -6.7004804 ],\n",
              "        [  0.51876688,   3.39210906],\n",
              "        [ -8.09111654,  -6.92631627],\n",
              "        [  1.1112886 ,   0.704398  ],\n",
              "        [ -7.49469451,  -7.06186612],\n",
              "        [ -0.75249891,   2.31574949],\n",
              "        [  0.72046137,   1.63484242],\n",
              "        [ -0.80867204,   1.41371822],\n",
              "        [  1.13010192,  -0.25418504],\n",
              "        [-10.6252148 ,  -6.71479817],\n",
              "        [ -0.06311641,   3.15682868],\n",
              "        [  0.56609951,   3.41000402],\n",
              "        [ -9.10474956,  -7.83047821],\n",
              "        [-11.33926304,  -7.83622233],\n",
              "        [  0.29639341,   2.06317757],\n",
              "        [ -0.52722349,   2.95534215],\n",
              "        [  1.19213743,  -0.14757971],\n",
              "        [ -9.62621816,  -7.22168634],\n",
              "        [-10.73883002,  -7.25875757],\n",
              "        [-10.32119803,  -9.35353346],\n",
              "        [ -7.99924137,  -8.05646528],\n",
              "        [  1.3167454 ,   1.92718447],\n",
              "        [  1.235942  ,   1.91717749],\n",
              "        [-11.58042665,  -7.03632662],\n",
              "        [ -8.39330399,  -5.82759078],\n",
              "        [ -0.52688735,   3.01616727],\n",
              "        [  2.07998698,   2.10889846],\n",
              "        [ -0.65480344,   3.64490698],\n",
              "        [ -0.75314572,   1.41299678],\n",
              "        [  0.50598165,   0.78654633],\n",
              "        [ -8.80248439,  -5.92330182],\n",
              "        [  0.91481985,  -0.20799609],\n",
              "        [ -7.89383228,  -8.46409884],\n",
              "        [  2.35751674,   0.36699335],\n",
              "        [-10.71183576,  -5.29283543],\n",
              "        [-10.44988952,  -7.81291822],\n",
              "        [ -9.39692509,  -6.78977481],\n",
              "        [ -9.30442973,  -6.10352273],\n",
              "        [ -8.23549021,  -7.28459234],\n",
              "        [-10.59156852,  -6.23029095],\n",
              "        [ -9.31593459,  -6.93805437],\n",
              "        [  0.10809101,   1.70614687],\n",
              "        [ -2.40902204,   2.93591385],\n",
              "        [  0.0760756 ,   0.83523148],\n",
              "        [  1.61820248,  -0.06496763],\n",
              "        [  0.28229607,   1.42577273],\n",
              "        [  0.51509708,   0.68050659],\n",
              "        [ -9.5717817 ,  -6.48403807],\n",
              "        [ -0.43795752,   2.37565091],\n",
              "        [-11.98317573,  -6.60149385],\n",
              "        [-10.82367962,  -7.33755457],\n",
              "        [ -9.39684712,  -6.69438788],\n",
              "        [  0.29681207,   3.35328405],\n",
              "        [  0.48163339,   1.58098998],\n",
              "        [  1.16232708,   1.27291991],\n",
              "        [ -8.95896588,  -5.6190734 ],\n",
              "        [ -8.84944516,  -6.96276619],\n",
              "        [-10.11243638,  -7.97378661],\n",
              "        [-10.93155671,  -5.51120995],\n",
              "        [ -9.73898718,  -7.41163337],\n",
              "        [ -0.14078373,   2.27344877],\n",
              "        [ -9.78117963,  -5.02182471],\n",
              "        [ -8.41536188,  -5.47779112],\n",
              "        [ -8.16046606,  -7.94332984],\n",
              "        [ -1.08115313,   2.28425875],\n",
              "        [  0.67151174,   1.60962705],\n",
              "        [ -9.76265363,  -5.44991827],\n",
              "        [  1.19156816,   0.33676123],\n",
              "        [ -0.05213095,  -0.25270744],\n",
              "        [ -6.81084785,  -7.63414012],\n",
              "        [ -0.60062972,   3.1293019 ],\n",
              "        [ -0.60023228,   2.26025564],\n",
              "        [  1.45799061,   2.31114805],\n",
              "        [  0.3694325 ,   1.00229633],\n",
              "        [ -7.57554831,  -6.06731654],\n",
              "        [  0.12218026,   3.90734192],\n",
              "        [  0.9790905 ,   1.09403369],\n",
              "        [ -9.07236429,  -6.54867191],\n",
              "        [ -0.66529095,   1.61015124],\n",
              "        [ -1.69019569,   2.15347379],\n",
              "        [ -8.17757184,  -7.61791421],\n",
              "        [ -7.63152559,  -7.88242054],\n",
              "        [ -9.28847447,  -7.20826784],\n",
              "        [ -9.30054381,  -6.12642497],\n",
              "        [ -9.70122859,  -8.70560211],\n",
              "        [ -0.11790023,   2.0992255 ],\n",
              "        [  0.1726968 ,   0.40012372],\n",
              "        [ -0.52010443,   2.01931709],\n",
              "        [  0.71400287,   3.49737027],\n",
              "        [ -0.44335605,   1.52382915],\n",
              "        [ -8.23921069,  -6.22893276],\n",
              "        [-10.24742172,  -6.44728027],\n",
              "        [ -1.22169855,   1.84860466],\n",
              "        [ -0.64342001,  -0.10898114],\n",
              "        [ -9.11722593,  -6.63809525],\n",
              "        [  0.47499933,   0.9339037 ],\n",
              "        [-10.34815334,  -6.3060237 ],\n",
              "        [-11.22326257,  -5.11513693],\n",
              "        [  0.65883817,   0.35030284],\n",
              "        [  0.72143331,   0.7828451 ],\n",
              "        [  0.56496818,   1.61413221],\n",
              "        [ -7.66038087,  -7.06255368],\n",
              "        [ -9.96031582,  -7.59431349],\n",
              "        [ -8.02332663,  -6.50859607],\n",
              "        [ -8.4903952 ,  -5.82334566],\n",
              "        [ -9.41699606,  -8.72605453],\n",
              "        [-11.76774331,  -4.54894721],\n",
              "        [  0.04846234,   2.47606215],\n",
              "        [ -0.20449797,   3.53107912],\n",
              "        [-10.37573979,  -5.94329439],\n",
              "        [ -8.62468102,  -6.60627864],\n",
              "        [ -8.09247891,  -7.13067729],\n",
              "        [ -8.2983458 ,  -7.48778848],\n",
              "        [ -9.92543294,  -6.4977969 ],\n",
              "        [ -9.56632798,  -7.28023388],\n",
              "        [ -8.99020917,  -5.98870269],\n",
              "        [  0.59417933,   1.8259319 ],\n",
              "        [ -1.05494754,   2.89584723],\n",
              "        [  0.85678605,   0.8243512 ],\n",
              "        [  1.93475242,   0.29764177],\n",
              "        [ -9.64477346,  -6.24457115],\n",
              "        [ -8.9711724 ,  -5.98405419],\n",
              "        [ -9.61919892,  -5.27454367],\n",
              "        [ -8.42319134,  -6.23978322],\n",
              "        [-10.00360848,  -6.90451659],\n",
              "        [  0.54220675,   1.17284179],\n",
              "        [  0.42160054,   2.65416435],\n",
              "        [ -9.79719667,  -5.9802305 ],\n",
              "        [ -9.61241916,  -7.17280234],\n",
              "        [ -9.48171833,  -7.0086949 ],\n",
              "        [ -9.9745944 ,  -6.9050362 ],\n",
              "        [-11.14547808,  -5.21952108],\n",
              "        [ -8.07915865,  -6.33981252],\n",
              "        [  1.05699629,   0.55026047],\n",
              "        [  0.44711752,   2.07906632],\n",
              "        [ -8.07870843,  -6.312384  ],\n",
              "        [-10.85727399,  -5.30909143],\n",
              "        [  0.20259175,   0.46776361],\n",
              "        [ -0.40149378,   0.69324199],\n",
              "        [ -9.12346959,  -6.03963994],\n",
              "        [-12.01677557,  -7.23176081],\n",
              "        [  0.02953681,   1.44249321],\n",
              "        [ -8.56686995,  -7.29630753],\n",
              "        [  0.93682985,   1.69982473],\n",
              "        [  0.88674196,   2.43816202],\n",
              "        [ -7.34539957,  -6.86138854],\n",
              "        [  0.48975374,   2.24638106],\n",
              "        [  2.93393983,   2.09686062],\n",
              "        [ -0.16913147,   0.65928204],\n",
              "        [ -8.26421087,  -5.31861361],\n",
              "        [ -0.05528558,   1.00403325],\n",
              "        [ -9.8226286 ,  -6.81716272],\n",
              "        [ -7.68199242,  -7.27158294],\n",
              "        [  0.19606642,   0.07826   ],\n",
              "        [  0.21119924,   3.31510653],\n",
              "        [ -0.61543385,   1.89810338],\n",
              "        [ -9.08641281,  -6.29099203],\n",
              "        [  0.51345154,   0.41933345],\n",
              "        [ -8.88635623,  -5.87127114],\n",
              "        [ -8.40487788,  -7.01194048],\n",
              "        [  3.11298222,   2.9371022 ],\n",
              "        [  0.9771203 ,   1.77229226],\n",
              "        [  0.16543782,   1.89916047],\n",
              "        [  1.35395671,   1.25675383],\n",
              "        [ -8.48927068,  -6.57787835],\n",
              "        [ -1.72459037,   1.24670562],\n",
              "        [  1.30369223,   1.02511304],\n",
              "        [-11.02968613,  -8.63840323],\n",
              "        [ -0.47487062,   1.15987235],\n",
              "        [ -9.44649023,  -8.00269747],\n",
              "        [ -7.60405526,  -6.85696333],\n",
              "        [  2.482819  ,   0.80309288],\n",
              "        [-10.28881968,  -6.79177712],\n",
              "        [ -0.67721436,   0.67156203],\n",
              "        [ -7.25437201,  -6.58042908],\n",
              "        [ -6.82927538,  -7.18211884],\n",
              "        [  0.96675957,   1.74299804],\n",
              "        [ -8.78538309,  -6.86720396],\n",
              "        [  1.00918185,   2.44847681],\n",
              "        [ -9.83153225,  -8.34903729],\n",
              "        [ -8.36709883,  -7.1696073 ],\n",
              "        [-10.8123662 ,  -6.04097554],\n",
              "        [ -9.23958906,  -6.65641296],\n",
              "        [  0.63360407,   1.65652935],\n",
              "        [  0.735559  ,   2.22119448],\n",
              "        [-10.80547193,  -7.69302899],\n",
              "        [ -0.21928733,   1.91007869],\n",
              "        [ -9.01310364,  -5.29629752],\n",
              "        [  0.65581729,   2.08783692],\n",
              "        [ -0.04854612,   1.64368808],\n",
              "        [ -7.87938969,  -5.32691831],\n",
              "        [  0.38163401,  -0.70176136],\n",
              "        [ -1.057406  ,   0.08369168],\n",
              "        [ -1.09297692,   1.73501132],\n",
              "        [ -7.67679391,  -8.13571089],\n",
              "        [ -0.71880698,   2.70611631],\n",
              "        [ -0.7016046 ,  -0.1115038 ],\n",
              "        [-11.31432419,  -7.88370905],\n",
              "        [ -8.28774031,  -5.89065074],\n",
              "        [-10.38922009,  -7.05397478],\n",
              "        [-10.00222699,  -5.14611893],\n",
              "        [ -1.3503111 ,   1.74732484],\n",
              "        [ -9.1989063 ,  -6.41415498],\n",
              "        [ -9.50262624,  -5.27702187],\n",
              "        [ -9.8830218 ,  -6.84570552],\n",
              "        [ -0.06318407,   2.4416449 ],\n",
              "        [  1.28943071,  -0.72786055],\n",
              "        [  0.19313183,   1.80387958],\n",
              "        [ -1.06354651,   1.56083821],\n",
              "        [ -1.37811338,   0.25423232],\n",
              "        [ -9.80837696,  -4.61414699],\n",
              "        [ -7.60426107,  -7.54351233],\n",
              "        [  1.08209399,   0.64131109],\n",
              "        [  1.46167554,   1.94153847],\n",
              "        [-10.21650206,  -5.58839743],\n",
              "        [ -7.53837871,  -7.26742566],\n",
              "        [  1.04876015,   0.1902697 ],\n",
              "        [  1.91378495,   2.34300958],\n",
              "        [  1.12210106,   2.77306371],\n",
              "        [ -9.73695057,  -5.70781271],\n",
              "        [  0.52549654,   3.716339  ],\n",
              "        [ -2.40849189,   0.42819888],\n",
              "        [-10.26167723,  -7.06350819],\n",
              "        [ -1.13954147,   0.91925638],\n",
              "        [-10.22919552,  -6.75887645],\n",
              "        [  1.3320287 ,   2.4452676 ],\n",
              "        [  1.23079841,   0.87544258],\n",
              "        [ -0.60526466,   2.36840825],\n",
              "        [ -8.35959311,  -6.63048168],\n",
              "        [  1.00550767,   1.43945722],\n",
              "        [ -1.64463255,   0.5464667 ],\n",
              "        [  2.49339367,   0.14611156],\n",
              "        [ -9.1658831 ,  -6.4088818 ],\n",
              "        [ -9.40588794,  -7.77241687],\n",
              "        [ -0.22290345,   2.35539671],\n",
              "        [  0.49487719,   1.5978536 ],\n",
              "        [ -7.92076846,  -6.39488367],\n",
              "        [ -8.91917163,  -6.42494809],\n",
              "        [  0.4186713 ,   2.73506708],\n",
              "        [  1.13567847,   1.48631141],\n",
              "        [  1.21700344,  -0.42590913],\n",
              "        [ -0.75946334,  -1.15441518],\n",
              "        [  0.29354092,   2.10176016],\n",
              "        [-10.12252545,  -5.94626122],\n",
              "        [ -7.76150458,  -5.08941917],\n",
              "        [ -1.07031712,   1.19404102],\n",
              "        [  0.40949591,   0.99816062],\n",
              "        [ -0.76972047,  -0.49465708],\n",
              "        [-10.72150736,  -6.57844318],\n",
              "        [-10.28821176,  -6.94306206],\n",
              "        [ -0.5979017 ,   3.27621588],\n",
              "        [ -7.51030629,  -4.8323603 ],\n",
              "        [ -9.15368985,  -7.12310178],\n",
              "        [ -9.45320712,  -6.53809263],\n",
              "        [ -9.07174359,  -5.43518899],\n",
              "        [  1.58787624,   0.96545339],\n",
              "        [-10.21411452,  -7.95238194],\n",
              "        [ -6.54226773,  -6.2646095 ],\n",
              "        [ -8.5099903 ,  -5.22042935],\n",
              "        [ -0.80584461,   2.02382964],\n",
              "        [  0.98900175,   1.08043094],\n",
              "        [ -7.99134003,  -6.91886216],\n",
              "        [ -0.25241043,   2.62237902],\n",
              "        [ -8.67477327,  -4.81144513],\n",
              "        [ -8.90887229,  -7.91161069],\n",
              "        [ -8.36198905,  -9.3268063 ],\n",
              "        [  0.5580596 ,   2.03200973],\n",
              "        [ -0.6473768 ,   0.35850114],\n",
              "        [ -0.97850975,  -0.21957226],\n",
              "        [ -0.47667896,   1.66689978],\n",
              "        [-10.1169817 ,  -7.53902671],\n",
              "        [  0.23867411,   2.11191814],\n",
              "        [ -8.3309652 ,  -7.59506607],\n",
              "        [ -8.96708797,  -8.77600892],\n",
              "        [ -0.90764171,   0.61492378],\n",
              "        [ -0.42735279,   1.06693323],\n",
              "        [-10.66457298,  -7.51508983],\n",
              "        [-10.50346327,  -6.92273129],\n",
              "        [  0.51666786,   0.65447968],\n",
              "        [ -9.12185695,  -7.50523758],\n",
              "        [ -8.69202216,  -6.27673617],\n",
              "        [  1.09994259,   1.70756836],\n",
              "        [ -9.43147933,  -6.43924461],\n",
              "        [  0.99429187,   0.87511711],\n",
              "        [  1.32054601,   2.60559237],\n",
              "        [ -8.04391612,  -6.01058931],\n",
              "        [ -9.73356644,  -7.46038047],\n",
              "        [-10.72207465,  -5.56856467],\n",
              "        [  1.52971658,   0.59288857]]),\n",
              " array([1, 0, 0, 1, 1, 1, 0, 1, 0, 0, 1, 1, 0, 1, 0, 1, 0, 0, 0, 0, 1, 0,\n",
              "        0, 1, 1, 0, 0, 0, 1, 1, 1, 1, 0, 0, 1, 1, 0, 0, 0, 0, 0, 1, 0, 1,\n",
              "        0, 1, 1, 1, 1, 1, 1, 1, 0, 0, 0, 0, 0, 0, 1, 0, 1, 1, 1, 0, 0, 0,\n",
              "        1, 1, 1, 1, 1, 0, 1, 1, 1, 0, 0, 1, 0, 0, 1, 0, 0, 0, 0, 1, 0, 0,\n",
              "        1, 0, 0, 1, 1, 1, 1, 1, 0, 0, 0, 0, 0, 1, 1, 0, 0, 1, 0, 1, 1, 0,\n",
              "        0, 0, 1, 1, 1, 1, 1, 1, 0, 0, 1, 1, 1, 1, 1, 1, 1, 0, 0, 0, 0, 1,\n",
              "        1, 1, 1, 1, 0, 0, 1, 1, 1, 1, 1, 1, 0, 0, 1, 1, 0, 0, 1, 1, 0, 1,\n",
              "        0, 0, 1, 0, 0, 0, 1, 0, 1, 1, 0, 0, 0, 1, 0, 1, 1, 0, 0, 0, 0, 1,\n",
              "        0, 0, 1, 0, 1, 1, 0, 1, 0, 1, 1, 0, 1, 0, 1, 1, 1, 1, 0, 0, 1, 0,\n",
              "        1, 0, 0, 1, 0, 0, 0, 1, 0, 0, 1, 1, 1, 1, 0, 1, 1, 1, 0, 0, 0, 0,\n",
              "        0, 1, 1, 0, 0, 1, 1, 0, 0, 0, 1, 0, 0, 1, 0, 1, 0, 0, 0, 1, 0, 0,\n",
              "        0, 1, 1, 0, 0, 1, 1, 0, 0, 0, 0, 0, 1, 1, 0, 0, 0, 1, 1, 0, 1, 1,\n",
              "        1, 1, 0, 1, 1, 1, 0, 0, 1, 0, 1, 1, 1, 0, 0, 0, 0, 1, 0, 1, 1, 0,\n",
              "        0, 1, 1, 0, 1, 1, 0, 1, 0, 0, 1, 1, 1, 0]))"
            ]
          },
          "metadata": {
            "tags": []
          },
          "execution_count": 5
        }
      ]
    },
    {
      "cell_type": "code",
      "metadata": {
        "id": "H_MhE7a-eCkp",
        "colab_type": "code",
        "colab": {}
      },
      "source": [
        "X,y = df"
      ],
      "execution_count": 0,
      "outputs": []
    },
    {
      "cell_type": "code",
      "metadata": {
        "id": "HoEk94jueE3i",
        "colab_type": "code",
        "colab": {}
      },
      "source": [
        "np.random.seed(seed = 101)\n",
        "z_noise = np.random.normal(size = len(X))\n",
        "z_noise = pd.Series(z_noise)"
      ],
      "execution_count": 0,
      "outputs": []
    },
    {
      "cell_type": "code",
      "metadata": {
        "id": "9Ufc3iydeL94",
        "colab_type": "code",
        "colab": {
          "base_uri": "https://localhost:8080/",
          "height": 221
        },
        "outputId": "8321a96a-40a9-414a-8d97-bb8f9a4c7e19"
      },
      "source": [
        "z_noise"
      ],
      "execution_count": 8,
      "outputs": [
        {
          "output_type": "execute_result",
          "data": {
            "text/plain": [
              "0      2.706850\n",
              "1      0.628133\n",
              "2      0.907969\n",
              "3      0.503826\n",
              "4      0.651118\n",
              "         ...   \n",
              "295    1.523750\n",
              "296    1.290230\n",
              "297   -1.478319\n",
              "298    0.214234\n",
              "299   -0.240510\n",
              "Length: 300, dtype: float64"
            ]
          },
          "metadata": {
            "tags": []
          },
          "execution_count": 8
        }
      ]
    },
    {
      "cell_type": "code",
      "metadata": {
        "id": "iJbxZEWyeNRw",
        "colab_type": "code",
        "colab": {}
      },
      "source": [
        "feat = pd.DataFrame(X)\n",
        "feat = pd.concat([feat, z_noise], axis = 1)"
      ],
      "execution_count": 0,
      "outputs": []
    },
    {
      "cell_type": "code",
      "metadata": {
        "id": "VoUK7BjieX1f",
        "colab_type": "code",
        "colab": {
          "base_uri": "https://localhost:8080/",
          "height": 204
        },
        "outputId": "b142dc64-ad30-42f8-bdb4-829ad0aefd07"
      },
      "source": [
        "feat.columns = ['X1', 'X2', 'X3']\n",
        "feat.head()"
      ],
      "execution_count": 10,
      "outputs": [
        {
          "output_type": "execute_result",
          "data": {
            "text/html": [
              "<div>\n",
              "<style scoped>\n",
              "    .dataframe tbody tr th:only-of-type {\n",
              "        vertical-align: middle;\n",
              "    }\n",
              "\n",
              "    .dataframe tbody tr th {\n",
              "        vertical-align: top;\n",
              "    }\n",
              "\n",
              "    .dataframe thead th {\n",
              "        text-align: right;\n",
              "    }\n",
              "</style>\n",
              "<table border=\"1\" class=\"dataframe\">\n",
              "  <thead>\n",
              "    <tr style=\"text-align: right;\">\n",
              "      <th></th>\n",
              "      <th>X1</th>\n",
              "      <th>X2</th>\n",
              "      <th>X3</th>\n",
              "    </tr>\n",
              "  </thead>\n",
              "  <tbody>\n",
              "    <tr>\n",
              "      <th>0</th>\n",
              "      <td>-8.877721</td>\n",
              "      <td>-6.760078</td>\n",
              "      <td>2.706850</td>\n",
              "    </tr>\n",
              "    <tr>\n",
              "      <th>1</th>\n",
              "      <td>0.630638</td>\n",
              "      <td>3.107075</td>\n",
              "      <td>0.628133</td>\n",
              "    </tr>\n",
              "    <tr>\n",
              "      <th>2</th>\n",
              "      <td>-0.240609</td>\n",
              "      <td>2.820690</td>\n",
              "      <td>0.907969</td>\n",
              "    </tr>\n",
              "    <tr>\n",
              "      <th>3</th>\n",
              "      <td>-7.839091</td>\n",
              "      <td>-8.207545</td>\n",
              "      <td>0.503826</td>\n",
              "    </tr>\n",
              "    <tr>\n",
              "      <th>4</th>\n",
              "      <td>-10.972908</td>\n",
              "      <td>-7.390676</td>\n",
              "      <td>0.651118</td>\n",
              "    </tr>\n",
              "  </tbody>\n",
              "</table>\n",
              "</div>"
            ],
            "text/plain": [
              "          X1        X2        X3\n",
              "0  -8.877721 -6.760078  2.706850\n",
              "1   0.630638  3.107075  0.628133\n",
              "2  -0.240609  2.820690  0.907969\n",
              "3  -7.839091 -8.207545  0.503826\n",
              "4 -10.972908 -7.390676  0.651118"
            ]
          },
          "metadata": {
            "tags": []
          },
          "execution_count": 10
        }
      ]
    },
    {
      "cell_type": "code",
      "metadata": {
        "id": "jW9NAlXiecTf",
        "colab_type": "code",
        "colab": {
          "base_uri": "https://localhost:8080/",
          "height": 282
        },
        "outputId": "5958b6d1-4e58-4cc6-9f85-87eff19017d2"
      },
      "source": [
        "plt.scatter(feat['X1'], feat['X2'], c = y)"
      ],
      "execution_count": 11,
      "outputs": [
        {
          "output_type": "execute_result",
          "data": {
            "text/plain": [
              "<matplotlib.collections.PathCollection at 0x7f0da4807908>"
            ]
          },
          "metadata": {
            "tags": []
          },
          "execution_count": 11
        },
        {
          "output_type": "display_data",
          "data": {
            "image/png": "[encoded data removed]",
            "text/plain": [
              "<Figure size 432x288 with 1 Axes>"
            ]
          },
          "metadata": {
            "tags": []
          }
        }
      ]
    },
    {
      "cell_type": "code",
      "metadata": {
        "id": "sPsovlAlesEv",
        "colab_type": "code",
        "colab": {}
      },
      "source": [
        "from mpl_toolkits.mplot3d import Axes3D"
      ],
      "execution_count": 0,
      "outputs": []
    },
    {
      "cell_type": "code",
      "metadata": {
        "id": "eTB6jwkme1pB",
        "colab_type": "code",
        "colab": {
          "base_uri": "https://localhost:8080/",
          "height": 483
        },
        "outputId": "ab80db2a-5c58-4e92-d6cc-214422cf7088"
      },
      "source": [
        "fig = plt.figure(figsize = (12,8))\n",
        "ax = fig.add_subplot(111, projection = '3d')\n",
        "ax.scatter(feat['X1'], feat['X2'], feat['X3'], c= y)\n",
        "\n"
      ],
      "execution_count": 13,
      "outputs": [
        {
          "output_type": "execute_result",
          "data": {
            "text/plain": [
              "<mpl_toolkits.mplot3d.art3d.Path3DCollection at 0x7f0da1b0c400>"
            ]
          },
          "metadata": {
            "tags": []
          },
          "execution_count": 13
        },
        {
          "output_type": "display_data",
          "data": {
            "image/png": "[encoded data removed]",
            "text/plain": [
              "<Figure size 864x576 with 1 Axes>"
            ]
          },
          "metadata": {
            "tags": []
          }
        }
      ]
    },
    {
      "cell_type": "code",
      "metadata": {
        "id": "CFlcA93vfvv-",
        "colab_type": "code",
        "colab": {}
      },
      "source": [
        "from tensorflow.keras.models import Sequential\n",
        "from tensorflow.keras.layers import Dense"
      ],
      "execution_count": 0,
      "outputs": []
    },
    {
      "cell_type": "code",
      "metadata": {
        "id": "Ly2w_Rmuf08l",
        "colab_type": "code",
        "colab": {}
      },
      "source": [
        "from tensorflow.keras.optimizers import SGD"
      ],
      "execution_count": 0,
      "outputs": []
    },
    {
      "cell_type": "code",
      "metadata": {
        "id": "aE1N8ok3f7Rd",
        "colab_type": "code",
        "colab": {}
      },
      "source": [
        "# 3 ----> 2 ----> 3"
      ],
      "execution_count": 0,
      "outputs": []
    },
    {
      "cell_type": "code",
      "metadata": {
        "id": "pue_mm-rgC8c",
        "colab_type": "code",
        "colab": {}
      },
      "source": [
        "encoder = Sequential()\n",
        "encoder.add(Dense(units = 2, activation= 'relu', input_shape = [3]))\n"
      ],
      "execution_count": 0,
      "outputs": []
    },
    {
      "cell_type": "code",
      "metadata": {
        "id": "ichIwl49gMSM",
        "colab_type": "code",
        "colab": {}
      },
      "source": [
        "decoder = Sequential()\n",
        "decoder.add(Dense(units = 3, activation = 'relu', input_shape = [2]))"
      ],
      "execution_count": 0,
      "outputs": []
    },
    {
      "cell_type": "code",
      "metadata": {
        "id": "617MZzOngWHc",
        "colab_type": "code",
        "colab": {}
      },
      "source": [
        "autoencoder = Sequential([encoder, decoder])\n"
      ],
      "execution_count": 0,
      "outputs": []
    },
    {
      "cell_type": "code",
      "metadata": {
        "id": "jZOZ8lNHgjlU",
        "colab_type": "code",
        "colab": {}
      },
      "source": [
        "autoencoder.compile(loss = 'mse', optimizer = SGD(lr = 1.5))"
      ],
      "execution_count": 0,
      "outputs": []
    },
    {
      "cell_type": "code",
      "metadata": {
        "id": "NpNetCPrgpTL",
        "colab_type": "code",
        "colab": {}
      },
      "source": [
        "from sklearn.preprocessing import MinMaxScaler"
      ],
      "execution_count": 0,
      "outputs": []
    },
    {
      "cell_type": "code",
      "metadata": {
        "id": "CDYR-qKTgs7c",
        "colab_type": "code",
        "colab": {}
      },
      "source": [
        "scaler = MinMaxScaler()\n",
        "scaled_data = scaler.fit_transform(feat)"
      ],
      "execution_count": 0,
      "outputs": []
    },
    {
      "cell_type": "code",
      "metadata": {
        "id": "a9FA-MgJg16z",
        "colab_type": "code",
        "colab": {
          "base_uri": "https://localhost:8080/",
          "height": 221
        },
        "outputId": "5f886b9e-a7a4-4554-b4dd-1bb68c4b9928"
      },
      "source": [
        "autoencoder.fit(scaled_data, scaled_data, epochs = 5)"
      ],
      "execution_count": 23,
      "outputs": [
        {
          "output_type": "stream",
          "text": [
            "Train on 300 samples\n",
            "Epoch 1/5\n",
            "300/300 [==============================] - 1s 2ms/sample - loss: 0.3350\n",
            "Epoch 2/5\n",
            "300/300 [==============================] - 0s 77us/sample - loss: 0.3350\n",
            "Epoch 3/5\n",
            "300/300 [==============================] - 0s 63us/sample - loss: 0.3350\n",
            "Epoch 4/5\n",
            "300/300 [==============================] - 0s 56us/sample - loss: 0.3350\n",
            "Epoch 5/5\n",
            "300/300 [==============================] - 0s 55us/sample - loss: 0.3350\n"
          ],
          "name": "stdout"
        },
        {
          "output_type": "execute_result",
          "data": {
            "text/plain": [
              "<tensorflow.python.keras.callbacks.History at 0x7f0d1fca6240>"
            ]
          },
          "metadata": {
            "tags": []
          },
          "execution_count": 23
        }
      ]
    },
    {
      "cell_type": "code",
      "metadata": {
        "id": "GcfGe6eChFej",
        "colab_type": "code",
        "colab": {}
      },
      "source": [
        "encoded_2dm = encoder.predict(scaled_data)"
      ],
      "execution_count": 0,
      "outputs": []
    },
    {
      "cell_type": "code",
      "metadata": {
        "id": "j5KHwl7PhIv7",
        "colab_type": "code",
        "colab": {
          "base_uri": "https://localhost:8080/",
          "height": 34
        },
        "outputId": "6019aa0f-67cd-4f5b-acfc-c0a17a1aa489"
      },
      "source": [
        "encoded_2dm.shape"
      ],
      "execution_count": 25,
      "outputs": [
        {
          "output_type": "execute_result",
          "data": {
            "text/plain": [
              "(300, 2)"
            ]
          },
          "metadata": {
            "tags": []
          },
          "execution_count": 25
        }
      ]
    },
    {
      "cell_type": "code",
      "metadata": {
        "id": "PMjaKsT8hM9C",
        "colab_type": "code",
        "colab": {
          "base_uri": "https://localhost:8080/",
          "height": 34
        },
        "outputId": "5a137813-3873-40a3-8ab5-87a370536986"
      },
      "source": [
        "scaled_data.shape"
      ],
      "execution_count": 26,
      "outputs": [
        {
          "output_type": "execute_result",
          "data": {
            "text/plain": [
              "(300, 3)"
            ]
          },
          "metadata": {
            "tags": []
          },
          "execution_count": 26
        }
      ]
    },
    {
      "cell_type": "code",
      "metadata": {
        "id": "cUV7fh48hO1z",
        "colab_type": "code",
        "colab": {
          "base_uri": "https://localhost:8080/",
          "height": 483
        },
        "outputId": "a5f5108e-dde7-4e64-a94b-113e8412813c"
      },
      "source": [
        "plt.figure(figsize = (12,8))\n",
        "plt.scatter(encoded_2dm[:,0], encoded_2dm[:,1])\n",
        "plt.show()"
      ],
      "execution_count": 27,
      "outputs": [
        {
          "output_type": "display_data",
          "data": {
            "image/png": "[encoded data removed]",
            "text/plain": [
              "<Figure size 864x576 with 1 Axes>"
            ]
          },
          "metadata": {
            "tags": []
          }
        }
      ]
    },
    {
      "cell_type": "markdown",
      "metadata": {
        "id": "__lI93BZiUQq",
        "colab_type": "text"
      },
      "source": [
        "## For images\n",
        "\n",
        "* We've already seen that even simple images are high dimensional datasets.\n",
        "\n",
        "* Recall a simple 28x28 image has 784 features/dimensions\n"
      ]
    },
    {
      "cell_type": "code",
      "metadata": {
        "id": "td_Zbwcsky5g",
        "colab_type": "code",
        "colab": {}
      },
      "source": [
        "from tensorflow.keras.datasets import mnist"
      ],
      "execution_count": 0,
      "outputs": []
    },
    {
      "cell_type": "code",
      "metadata": {
        "id": "hwnVejp_k3tL",
        "colab_type": "code",
        "colab": {}
      },
      "source": [
        "(X_train, y_train), (X_test, y_test) = mnist.load_data()"
      ],
      "execution_count": 0,
      "outputs": []
    },
    {
      "cell_type": "code",
      "metadata": {
        "id": "zlZU2wAhlJls",
        "colab_type": "code",
        "colab": {
          "base_uri": "https://localhost:8080/",
          "height": 282
        },
        "outputId": "6bde460d-fed6-49d2-d0b8-52637d39199f"
      },
      "source": [
        "plt.imshow(X_train[0])"
      ],
      "execution_count": 30,
      "outputs": [
        {
          "output_type": "execute_result",
          "data": {
            "text/plain": [
              "<matplotlib.image.AxesImage at 0x7f0d18e25b38>"
            ]
          },
          "metadata": {
            "tags": []
          },
          "execution_count": 30
        },
        {
          "output_type": "display_data",
          "data": {
            "image/png": "[encoded data removed]",
            "text/plain": [
              "<Figure size 432x288 with 1 Axes>"
            ]
          },
          "metadata": {
            "tags": []
          }
        }
      ]
    },
    {
      "cell_type": "code",
      "metadata": {
        "id": "4balb3u0lJgJ",
        "colab_type": "code",
        "colab": {}
      },
      "source": [
        "X_train = X_train/255"
      ],
      "execution_count": 0,
      "outputs": []
    },
    {
      "cell_type": "code",
      "metadata": {
        "id": "WQkM4bLplO4x",
        "colab_type": "code",
        "colab": {}
      },
      "source": [
        "X_test = X_test/255"
      ],
      "execution_count": 0,
      "outputs": []
    },
    {
      "cell_type": "code",
      "metadata": {
        "id": "4Ge1m766lRsa",
        "colab_type": "code",
        "colab": {}
      },
      "source": [
        "from tensorflow.keras.models import Sequential\n",
        "from tensorflow.keras.layers import Dense,Flatten,Reshape\n",
        "from tensorflow.keras.optimizers import SGD"
      ],
      "execution_count": 0,
      "outputs": []
    },
    {
      "cell_type": "code",
      "metadata": {
        "id": "CHpGSI5XlaCS",
        "colab_type": "code",
        "colab": {
          "base_uri": "https://localhost:8080/",
          "height": 34
        },
        "outputId": "aec34cb5-a20e-4b72-fdf7-8c202d0eb654"
      },
      "source": [
        "28 * 28"
      ],
      "execution_count": 34,
      "outputs": [
        {
          "output_type": "execute_result",
          "data": {
            "text/plain": [
              "784"
            ]
          },
          "metadata": {
            "tags": []
          },
          "execution_count": 34
        }
      ]
    },
    {
      "cell_type": "code",
      "metadata": {
        "id": "hbmdzoC-liLZ",
        "colab_type": "code",
        "colab": {
          "base_uri": "https://localhost:8080/",
          "height": 34
        },
        "outputId": "e80b03bb-1ac0-4ecb-dc76-8b8e994e9d0f"
      },
      "source": [
        "784 /2"
      ],
      "execution_count": 35,
      "outputs": [
        {
          "output_type": "execute_result",
          "data": {
            "text/plain": [
              "392.0"
            ]
          },
          "metadata": {
            "tags": []
          },
          "execution_count": 35
        }
      ]
    },
    {
      "cell_type": "code",
      "metadata": {
        "id": "zvHQcH_kljfM",
        "colab_type": "code",
        "colab": {}
      },
      "source": [
        "encoder = Sequential()\n",
        "encoder.add(Flatten(input_shape = [28,28]))\n",
        "encoder.add(Dense(400,activation = 'relu'))\n",
        "encoder.add(Dense(200,activation = 'relu'))\n",
        "encoder.add(Dense(100,activation = 'relu'))\n",
        "encoder.add(Dense(50,activation = 'relu'))\n",
        "encoder.add(Dense(25,activation = 'relu'))"
      ],
      "execution_count": 0,
      "outputs": []
    },
    {
      "cell_type": "code",
      "metadata": {
        "id": "aKx2yc5fl9Pw",
        "colab_type": "code",
        "colab": {}
      },
      "source": [
        "decoder = Sequential()\n",
        "decoder.add(Dense(50, input_shape = [25], activation = 'relu'))\n",
        "decoder.add(Dense(100, input_shape = [50], activation = 'relu'))\n",
        "decoder.add(Dense(200, input_shape = [100], activation = 'relu'))\n",
        "decoder.add(Dense(400, input_shape = [200], activation = 'relu'))\n",
        "decoder.add(Dense(784, activation ='sigmoid'))\n",
        "decoder.add(Reshape([28,28]))"
      ],
      "execution_count": 0,
      "outputs": []
    },
    {
      "cell_type": "code",
      "metadata": {
        "id": "otOIMS_hmxHA",
        "colab_type": "code",
        "colab": {}
      },
      "source": [
        "autoencoder = Sequential([encoder, decoder])"
      ],
      "execution_count": 0,
      "outputs": []
    },
    {
      "cell_type": "code",
      "metadata": {
        "id": "hj8yf7wsm0iJ",
        "colab_type": "code",
        "colab": {}
      },
      "source": [
        "autoencoder.compile(loss ='binary_crossentropy', optimizer = SGD(lr = 1.5), metrics = ['accuracy'])"
      ],
      "execution_count": 0,
      "outputs": []
    },
    {
      "cell_type": "code",
      "metadata": {
        "id": "gkzDD7lunJoW",
        "colab_type": "code",
        "colab": {
          "base_uri": "https://localhost:8080/",
          "height": 241
        },
        "outputId": "5c3b9f28-4998-4c87-a775-36d194800e49"
      },
      "source": [
        "autoencoder.fit(X_train, X_train, epochs = 5, validation_data = [X_test, X_test])"
      ],
      "execution_count": 40,
      "outputs": [
        {
          "output_type": "stream",
          "text": [
            "Train on 60000 samples, validate on 10000 samples\n",
            "Epoch 1/5\n",
            "60000/60000 [==============================] - 23s 389us/sample - loss: 0.2497 - accuracy: 0.7911 - val_loss: 0.2157 - val_accuracy: 0.7925\n",
            "Epoch 2/5\n",
            "60000/60000 [==============================] - 23s 384us/sample - loss: 0.1895 - accuracy: 0.7975 - val_loss: 0.1684 - val_accuracy: 0.7994\n",
            "Epoch 3/5\n",
            "60000/60000 [==============================] - 22s 374us/sample - loss: 0.1607 - accuracy: 0.8018 - val_loss: 0.1578 - val_accuracy: 0.8034\n",
            "Epoch 4/5\n",
            "60000/60000 [==============================] - 23s 377us/sample - loss: 0.1475 - accuracy: 0.8043 - val_loss: 0.1455 - val_accuracy: 0.8065\n",
            "Epoch 5/5\n",
            "60000/60000 [==============================] - 23s 380us/sample - loss: 0.1403 - accuracy: 0.8059 - val_loss: 0.1348 - val_accuracy: 0.8043\n"
          ],
          "name": "stdout"
        },
        {
          "output_type": "execute_result",
          "data": {
            "text/plain": [
              "<tensorflow.python.keras.callbacks.History at 0x7f0d18d3ec88>"
            ]
          },
          "metadata": {
            "tags": []
          },
          "execution_count": 40
        }
      ]
    },
    {
      "cell_type": "code",
      "metadata": {
        "id": "SQZoi-WTn8ev",
        "colab_type": "code",
        "colab": {}
      },
      "source": [
        "passed_images = autoencoder.predict(X_test[:10])"
      ],
      "execution_count": 0,
      "outputs": []
    },
    {
      "cell_type": "code",
      "metadata": {
        "id": "SwNtAe-0oKnD",
        "colab_type": "code",
        "colab": {
          "base_uri": "https://localhost:8080/",
          "height": 564
        },
        "outputId": "3cf99246-469e-473f-b898-6003d15bed8a"
      },
      "source": [
        "n = 9\n",
        "\n",
        "print('Original Image')\n",
        "plt.imshow(X_test[n])\n",
        "plt.show()\n",
        "print('Attempted Reconstruction (after)')\n",
        "plt.imshow(passed_images[n])"
      ],
      "execution_count": 42,
      "outputs": [
        {
          "output_type": "stream",
          "text": [
            "Original Image\n"
          ],
          "name": "stdout"
        },
        {
          "output_type": "display_data",
          "data": {
            "image/png": "[encoded data removed]",
            "text/plain": [
              "<Figure size 432x288 with 1 Axes>"
            ]
          },
          "metadata": {
            "tags": []
          }
        },
        {
          "output_type": "stream",
          "text": [
            "Attempted Reconstruction (after)\n"
          ],
          "name": "stdout"
        },
        {
          "output_type": "execute_result",
          "data": {
            "text/plain": [
              "<matplotlib.image.AxesImage at 0x7f0d1db85ba8>"
            ]
          },
          "metadata": {
            "tags": []
          },
          "execution_count": 42
        },
        {
          "output_type": "display_data",
          "data": {
            "image/png": "[encoded data removed]",
            "text/plain": [
              "<Figure size 432x288 with 1 Axes>"
            ]
          },
          "metadata": {
            "tags": []
          }
        }
      ]
    },
    {
      "cell_type": "code",
      "metadata": {
        "id": "5ANmwQFe1Ysc",
        "colab_type": "code",
        "colab": {}
      },
      "source": [
        "from tensorflow.keras.layers import GaussianNoise"
      ],
      "execution_count": 0,
      "outputs": []
    },
    {
      "cell_type": "code",
      "metadata": {
        "id": "ekIm9_1A16m_",
        "colab_type": "code",
        "colab": {}
      },
      "source": [
        "import tensorflow as tf"
      ],
      "execution_count": 0,
      "outputs": []
    },
    {
      "cell_type": "code",
      "metadata": {
        "id": "NMZuiGZS1duB",
        "colab_type": "code",
        "colab": {}
      },
      "source": [
        "sample = GaussianNoise(0.2)"
      ],
      "execution_count": 0,
      "outputs": []
    },
    {
      "cell_type": "code",
      "metadata": {
        "id": "PEdFmwH81gy4",
        "colab_type": "code",
        "colab": {}
      },
      "source": [
        "noisey = sample(X_test[0:10],training=True)"
      ],
      "execution_count": 0,
      "outputs": []
    },
    {
      "cell_type": "code",
      "metadata": {
        "id": "ro7UNAQl3vPd",
        "colab_type": "code",
        "colab": {
          "base_uri": "https://localhost:8080/",
          "height": 564
        },
        "outputId": "649535db-4c46-44ca-a236-b6ac7497a585"
      },
      "source": [
        "n = 9\n",
        "\n",
        "print('Original Image')\n",
        "plt.imshow(X_test[n])\n",
        "plt.show()\n",
        "print('Noise Version (after)')\n",
        "plt.imshow(noisey[n])"
      ],
      "execution_count": 50,
      "outputs": [
        {
          "output_type": "stream",
          "text": [
            "Original Image\n"
          ],
          "name": "stdout"
        },
        {
          "output_type": "display_data",
          "data": {
            "image/png": "[encoded data removed]",
            "text/plain": [
              "<Figure size 432x288 with 1 Axes>"
            ]
          },
          "metadata": {
            "tags": []
          }
        },
        {
          "output_type": "stream",
          "text": [
            "Noise Version (after)\n"
          ],
          "name": "stdout"
        },
        {
          "output_type": "execute_result",
          "data": {
            "text/plain": [
              "<matplotlib.image.AxesImage at 0x7f0d1d622668>"
            ]
          },
          "metadata": {
            "tags": []
          },
          "execution_count": 50
        },
        {
          "output_type": "display_data",
          "data": {
            "image/png": "[encoded data removed]",
            "text/plain": [
              "<Figure size 432x288 with 1 Axes>"
            ]
          },
          "metadata": {
            "tags": []
          }
        }
      ]
    },
    {
      "cell_type": "code",
      "metadata": {
        "id": "WyR_t1k236yC",
        "colab_type": "code",
        "colab": {}
      },
      "source": [
        "tf.random.set_seed(101)\n",
        "np.random.seed(101)\n",
        "\n",
        "encoder = Sequential()\n",
        "encoder.add(Flatten(input_shape = [28,28]))\n",
        "\n",
        "encoder.add(GaussianNoise(0.2))\n",
        "\n",
        "encoder.add(Dense(400,activation = 'relu'))\n",
        "encoder.add(Dense(200,activation = 'relu'))\n",
        "encoder.add(Dense(100,activation = 'relu'))\n",
        "encoder.add(Dense(50,activation = 'relu'))\n",
        "encoder.add(Dense(25,activation = 'relu'))\n",
        " \n",
        "\n"
      ],
      "execution_count": 0,
      "outputs": []
    },
    {
      "cell_type": "code",
      "metadata": {
        "id": "WN6b9tc64PHn",
        "colab_type": "code",
        "colab": {}
      },
      "source": [
        "decoder = Sequential()\n",
        "decoder.add(Dense(50, input_shape = [25], activation = 'relu'))\n",
        "decoder.add(Dense(100, input_shape = [50], activation = 'relu'))\n",
        "decoder.add(Dense(200, input_shape = [100], activation = 'relu'))\n",
        "decoder.add(Dense(400, input_shape = [200], activation = 'relu'))\n",
        "decoder.add(Dense(784, activation ='sigmoid'))\n",
        "decoder.add(Reshape([28,28]))"
      ],
      "execution_count": 0,
      "outputs": []
    },
    {
      "cell_type": "code",
      "metadata": {
        "id": "1OYoEPTp4WRS",
        "colab_type": "code",
        "colab": {}
      },
      "source": [
        "noise_remover = Sequential([encoder, decoder])"
      ],
      "execution_count": 0,
      "outputs": []
    },
    {
      "cell_type": "code",
      "metadata": {
        "id": "A58qRJpz4cr7",
        "colab_type": "code",
        "colab": {}
      },
      "source": [
        "noise_remover.compile(loss = 'binary_crossentropy', optimizer = SGD(learning_rate= 1.5), metrics = ['accuracy'])"
      ],
      "execution_count": 0,
      "outputs": []
    },
    {
      "cell_type": "code",
      "metadata": {
        "id": "YDnF7Btk4lAi",
        "colab_type": "code",
        "colab": {
          "base_uri": "https://localhost:8080/",
          "height": 411
        },
        "outputId": "325603e0-37b9-4c4a-a1db-ca6e187444ad"
      },
      "source": [
        "noise_remover.fit(X_train,X_train, epochs = 10, validation_data=(X_test,X_test))"
      ],
      "execution_count": 55,
      "outputs": [
        {
          "output_type": "stream",
          "text": [
            "Train on 60000 samples, validate on 10000 samples\n",
            "Epoch 1/10\n",
            "60000/60000 [==============================] - 24s 393us/sample - loss: 0.2549 - accuracy: 0.7916 - val_loss: 0.2219 - val_accuracy: 0.7919\n",
            "Epoch 2/10\n",
            "60000/60000 [==============================] - 23s 387us/sample - loss: 0.1957 - accuracy: 0.7963 - val_loss: 0.1741 - val_accuracy: 0.7986\n",
            "Epoch 3/10\n",
            "60000/60000 [==============================] - 23s 391us/sample - loss: 0.1624 - accuracy: 0.8015 - val_loss: 0.1533 - val_accuracy: 0.8005\n",
            "Epoch 4/10\n",
            "60000/60000 [==============================] - 24s 394us/sample - loss: 0.1499 - accuracy: 0.8041 - val_loss: 0.1448 - val_accuracy: 0.8031\n",
            "Epoch 5/10\n",
            "60000/60000 [==============================] - 24s 395us/sample - loss: 0.1412 - accuracy: 0.8059 - val_loss: 0.1352 - val_accuracy: 0.8039\n",
            "Epoch 6/10\n",
            "60000/60000 [==============================] - 24s 392us/sample - loss: 0.1363 - accuracy: 0.8068 - val_loss: 0.1328 - val_accuracy: 0.8044\n",
            "Epoch 7/10\n",
            "60000/60000 [==============================] - 23s 391us/sample - loss: 0.1331 - accuracy: 0.8074 - val_loss: 0.1275 - val_accuracy: 0.8077\n",
            "Epoch 8/10\n",
            "60000/60000 [==============================] - 24s 401us/sample - loss: 0.1305 - accuracy: 0.8079 - val_loss: 0.1264 - val_accuracy: 0.8065\n",
            "Epoch 9/10\n",
            "60000/60000 [==============================] - 24s 402us/sample - loss: 0.1278 - accuracy: 0.8083 - val_loss: 0.1247 - val_accuracy: 0.8062\n",
            "Epoch 10/10\n",
            "60000/60000 [==============================] - 24s 401us/sample - loss: 0.1255 - accuracy: 0.8087 - val_loss: 0.1224 - val_accuracy: 0.8075\n"
          ],
          "name": "stdout"
        },
        {
          "output_type": "execute_result",
          "data": {
            "text/plain": [
              "<tensorflow.python.keras.callbacks.History at 0x7f0d1fbcf7b8>"
            ]
          },
          "metadata": {
            "tags": []
          },
          "execution_count": 55
        }
      ]
    },
    {
      "cell_type": "code",
      "metadata": {
        "id": "DYBzfAnr-4Cz",
        "colab_type": "code",
        "colab": {}
      },
      "source": [
        "ten_noisey_images = sample(X_test[:10], training = True)"
      ],
      "execution_count": 0,
      "outputs": []
    },
    {
      "cell_type": "code",
      "metadata": {
        "id": "HMmvtqCM_Bzu",
        "colab_type": "code",
        "colab": {}
      },
      "source": [
        "denoised = noise_remover(ten_noisey_images)"
      ],
      "execution_count": 0,
      "outputs": []
    },
    {
      "cell_type": "code",
      "metadata": {
        "id": "_-qPtGgB_Mt0",
        "colab_type": "code",
        "colab": {
          "base_uri": "https://localhost:8080/",
          "height": 812
        },
        "outputId": "40a1e376-fc3c-4094-85bc-69d6099aee47"
      },
      "source": [
        "n = 3\n",
        "print('Original Image')\n",
        "plt.imshow(X_test[n])\n",
        "plt.show()\n",
        "print('Noise Added Image')\n",
        "plt.imshow(ten_noisey_images[n])\n",
        "plt.show()\n",
        "\n",
        "print('After noise Removal From Autoencoder')\n",
        "plt.imshow(denoised[n])\n",
        "plt.show()"
      ],
      "execution_count": 59,
      "outputs": [
        {
          "output_type": "stream",
          "text": [
            "Original Image\n"
          ],
          "name": "stdout"
        },
        {
          "output_type": "display_data",
          "data": {
            "image/png": "[encoded data removed]",
            "text/plain": [
              "<Figure size 432x288 with 1 Axes>"
            ]
          },
          "metadata": {
            "tags": []
          }
        },
        {
          "output_type": "stream",
          "text": [
            "Noise Added Image\n"
          ],
          "name": "stdout"
        },
        {
          "output_type": "display_data",
          "data": {
            "image/png": "[encoded data removed]",
            "text/plain": [
              "<Figure size 432x288 with 1 Axes>"
            ]
          },
          "metadata": {
            "tags": []
          }
        },
        {
          "output_type": "stream",
          "text": [
            "After noise Removal From Autoencoder\n"
          ],
          "name": "stdout"
        },
        {
          "output_type": "display_data",
          "data": {
            "image/png": "[encoded data removed]",
            "text/plain": [
              "<Figure size 432x288 with 1 Axes>"
            ]
          },
          "metadata": {
            "tags": []
          }
        }
      ]
    },
    {
      "cell_type": "markdown",
      "metadata": {
        "id": "JAbtjr3J_uZl",
        "colab_type": "text"
      },
      "source": [
        "## AutoEncoder Exercise \n",
        "\n",
        "* The purpose of this exercise is to answer the following question:\n",
        "\n",
        "  * Given a dataset of average eating habits between countries in the United Kingdom, does any particular country stand out as different?\n",
        "\n"
      ]
    },
    {
      "cell_type": "code",
      "metadata": {
        "id": "F6x78FAnAPKE",
        "colab_type": "code",
        "colab": {}
      },
      "source": [
        "import pandas as pd\n",
        "import numpy as np\n",
        "import matplotlib.pyplot as plt\n",
        "import seaborn as sns"
      ],
      "execution_count": 0,
      "outputs": []
    },
    {
      "cell_type": "code",
      "metadata": {
        "id": "xyjThjsrAUIs",
        "colab_type": "code",
        "colab": {}
      },
      "source": [
        "df = pd.read_csv('/content/drive/My Drive/UK_foods.csv', index_col = 'Unnamed: 0')"
      ],
      "execution_count": 0,
      "outputs": []
    },
    {
      "cell_type": "code",
      "metadata": {
        "id": "gQkWuJF-A0yD",
        "colab_type": "code",
        "colab": {
          "base_uri": "https://localhost:8080/",
          "height": 359
        },
        "outputId": "b24f7a8c-68ef-4be8-c6f1-91d34691d6d5"
      },
      "source": [
        "df.head(10)"
      ],
      "execution_count": 64,
      "outputs": [
        {
          "output_type": "execute_result",
          "data": {
            "text/html": [
              "<div>\n",
              "<style scoped>\n",
              "    .dataframe tbody tr th:only-of-type {\n",
              "        vertical-align: middle;\n",
              "    }\n",
              "\n",
              "    .dataframe tbody tr th {\n",
              "        vertical-align: top;\n",
              "    }\n",
              "\n",
              "    .dataframe thead th {\n",
              "        text-align: right;\n",
              "    }\n",
              "</style>\n",
              "<table border=\"1\" class=\"dataframe\">\n",
              "  <thead>\n",
              "    <tr style=\"text-align: right;\">\n",
              "      <th></th>\n",
              "      <th>England</th>\n",
              "      <th>Wales</th>\n",
              "      <th>Scotland</th>\n",
              "      <th>N.Ireland</th>\n",
              "    </tr>\n",
              "  </thead>\n",
              "  <tbody>\n",
              "    <tr>\n",
              "      <th>Cheese</th>\n",
              "      <td>105</td>\n",
              "      <td>103</td>\n",
              "      <td>103</td>\n",
              "      <td>66</td>\n",
              "    </tr>\n",
              "    <tr>\n",
              "      <th>Carcass_meat</th>\n",
              "      <td>245</td>\n",
              "      <td>227</td>\n",
              "      <td>242</td>\n",
              "      <td>267</td>\n",
              "    </tr>\n",
              "    <tr>\n",
              "      <th>Other_meat</th>\n",
              "      <td>685</td>\n",
              "      <td>803</td>\n",
              "      <td>750</td>\n",
              "      <td>586</td>\n",
              "    </tr>\n",
              "    <tr>\n",
              "      <th>Fish</th>\n",
              "      <td>147</td>\n",
              "      <td>160</td>\n",
              "      <td>122</td>\n",
              "      <td>93</td>\n",
              "    </tr>\n",
              "    <tr>\n",
              "      <th>Fats_and_oils</th>\n",
              "      <td>193</td>\n",
              "      <td>235</td>\n",
              "      <td>184</td>\n",
              "      <td>209</td>\n",
              "    </tr>\n",
              "    <tr>\n",
              "      <th>Sugars</th>\n",
              "      <td>156</td>\n",
              "      <td>175</td>\n",
              "      <td>147</td>\n",
              "      <td>139</td>\n",
              "    </tr>\n",
              "    <tr>\n",
              "      <th>Fresh_potatoes</th>\n",
              "      <td>720</td>\n",
              "      <td>874</td>\n",
              "      <td>566</td>\n",
              "      <td>1033</td>\n",
              "    </tr>\n",
              "    <tr>\n",
              "      <th>Fresh_Veg</th>\n",
              "      <td>253</td>\n",
              "      <td>265</td>\n",
              "      <td>171</td>\n",
              "      <td>143</td>\n",
              "    </tr>\n",
              "    <tr>\n",
              "      <th>Other_Veg</th>\n",
              "      <td>488</td>\n",
              "      <td>570</td>\n",
              "      <td>418</td>\n",
              "      <td>355</td>\n",
              "    </tr>\n",
              "    <tr>\n",
              "      <th>Processed_potatoes</th>\n",
              "      <td>198</td>\n",
              "      <td>203</td>\n",
              "      <td>220</td>\n",
              "      <td>187</td>\n",
              "    </tr>\n",
              "  </tbody>\n",
              "</table>\n",
              "</div>"
            ],
            "text/plain": [
              "                     England  Wales  Scotland  N.Ireland\n",
              "Cheese                   105    103       103         66\n",
              "Carcass_meat             245    227       242        267\n",
              "Other_meat               685    803       750        586\n",
              "Fish                     147    160       122         93\n",
              "Fats_and_oils            193    235       184        209\n",
              "Sugars                   156    175       147        139\n",
              "Fresh_potatoes           720    874       566       1033\n",
              "Fresh_Veg                253    265       171        143\n",
              "Other_Veg                488    570       418        355\n",
              "Processed_potatoes       198    203       220        187"
            ]
          },
          "metadata": {
            "tags": []
          },
          "execution_count": 64
        }
      ]
    },
    {
      "cell_type": "code",
      "metadata": {
        "id": "46qC3NtNA2Ys",
        "colab_type": "code",
        "colab": {
          "base_uri": "https://localhost:8080/",
          "height": 193
        },
        "outputId": "7f33d9e2-8b31-4663-8b73-d0ec495637d2"
      },
      "source": [
        "df.transpose()"
      ],
      "execution_count": 65,
      "outputs": [
        {
          "output_type": "execute_result",
          "data": {
            "text/html": [
              "<div>\n",
              "<style scoped>\n",
              "    .dataframe tbody tr th:only-of-type {\n",
              "        vertical-align: middle;\n",
              "    }\n",
              "\n",
              "    .dataframe tbody tr th {\n",
              "        vertical-align: top;\n",
              "    }\n",
              "\n",
              "    .dataframe thead th {\n",
              "        text-align: right;\n",
              "    }\n",
              "</style>\n",
              "<table border=\"1\" class=\"dataframe\">\n",
              "  <thead>\n",
              "    <tr style=\"text-align: right;\">\n",
              "      <th></th>\n",
              "      <th>Cheese</th>\n",
              "      <th>Carcass_meat</th>\n",
              "      <th>Other_meat</th>\n",
              "      <th>Fish</th>\n",
              "      <th>Fats_and_oils</th>\n",
              "      <th>Sugars</th>\n",
              "      <th>Fresh_potatoes</th>\n",
              "      <th>Fresh_Veg</th>\n",
              "      <th>Other_Veg</th>\n",
              "      <th>Processed_potatoes</th>\n",
              "      <th>Processed_Veg</th>\n",
              "      <th>Fresh_fruit</th>\n",
              "      <th>Cereals</th>\n",
              "      <th>Beverages</th>\n",
              "      <th>Soft_drinks</th>\n",
              "      <th>Alcoholic_drinks</th>\n",
              "      <th>Confectionery</th>\n",
              "    </tr>\n",
              "  </thead>\n",
              "  <tbody>\n",
              "    <tr>\n",
              "      <th>England</th>\n",
              "      <td>105</td>\n",
              "      <td>245</td>\n",
              "      <td>685</td>\n",
              "      <td>147</td>\n",
              "      <td>193</td>\n",
              "      <td>156</td>\n",
              "      <td>720</td>\n",
              "      <td>253</td>\n",
              "      <td>488</td>\n",
              "      <td>198</td>\n",
              "      <td>360</td>\n",
              "      <td>1102</td>\n",
              "      <td>1472</td>\n",
              "      <td>57</td>\n",
              "      <td>1374</td>\n",
              "      <td>375</td>\n",
              "      <td>54</td>\n",
              "    </tr>\n",
              "    <tr>\n",
              "      <th>Wales</th>\n",
              "      <td>103</td>\n",
              "      <td>227</td>\n",
              "      <td>803</td>\n",
              "      <td>160</td>\n",
              "      <td>235</td>\n",
              "      <td>175</td>\n",
              "      <td>874</td>\n",
              "      <td>265</td>\n",
              "      <td>570</td>\n",
              "      <td>203</td>\n",
              "      <td>365</td>\n",
              "      <td>1137</td>\n",
              "      <td>1582</td>\n",
              "      <td>73</td>\n",
              "      <td>1256</td>\n",
              "      <td>475</td>\n",
              "      <td>64</td>\n",
              "    </tr>\n",
              "    <tr>\n",
              "      <th>Scotland</th>\n",
              "      <td>103</td>\n",
              "      <td>242</td>\n",
              "      <td>750</td>\n",
              "      <td>122</td>\n",
              "      <td>184</td>\n",
              "      <td>147</td>\n",
              "      <td>566</td>\n",
              "      <td>171</td>\n",
              "      <td>418</td>\n",
              "      <td>220</td>\n",
              "      <td>337</td>\n",
              "      <td>957</td>\n",
              "      <td>1462</td>\n",
              "      <td>53</td>\n",
              "      <td>1572</td>\n",
              "      <td>458</td>\n",
              "      <td>62</td>\n",
              "    </tr>\n",
              "    <tr>\n",
              "      <th>N.Ireland</th>\n",
              "      <td>66</td>\n",
              "      <td>267</td>\n",
              "      <td>586</td>\n",
              "      <td>93</td>\n",
              "      <td>209</td>\n",
              "      <td>139</td>\n",
              "      <td>1033</td>\n",
              "      <td>143</td>\n",
              "      <td>355</td>\n",
              "      <td>187</td>\n",
              "      <td>334</td>\n",
              "      <td>674</td>\n",
              "      <td>1494</td>\n",
              "      <td>47</td>\n",
              "      <td>1506</td>\n",
              "      <td>135</td>\n",
              "      <td>41</td>\n",
              "    </tr>\n",
              "  </tbody>\n",
              "</table>\n",
              "</div>"
            ],
            "text/plain": [
              "           Cheese  Carcass_meat   ...  Alcoholic_drinks   Confectionery \n",
              "England       105            245  ...                375              54\n",
              "Wales         103            227  ...                475              64\n",
              "Scotland      103            242  ...                458              62\n",
              "N.Ireland      66            267  ...                135              41\n",
              "\n",
              "[4 rows x 17 columns]"
            ]
          },
          "metadata": {
            "tags": []
          },
          "execution_count": 65
        }
      ]
    },
    {
      "cell_type": "markdown",
      "metadata": {
        "id": "e1DIDVEJBWRX",
        "colab_type": "text"
      },
      "source": [
        "Create a heatmap from the DF. Does any country really stand out as different than others? It should be tricky to tell just from the image."
      ]
    },
    {
      "cell_type": "code",
      "metadata": {
        "id": "4tt96KddBQwI",
        "colab_type": "code",
        "colab": {
          "base_uri": "https://localhost:8080/",
          "height": 483
        },
        "outputId": "14a70142-fd42-4f09-98f1-73d565a1a728"
      },
      "source": [
        "correlation = df.corr().transpose()\n",
        "plt.figure(figsize = (12,6))\n",
        "sns.heatmap(df.transpose())"
      ],
      "execution_count": 71,
      "outputs": [
        {
          "output_type": "execute_result",
          "data": {
            "text/plain": [
              "<matplotlib.axes._subplots.AxesSubplot at 0x7f0d1de27f60>"
            ]
          },
          "metadata": {
            "tags": []
          },
          "execution_count": 71
        },
        {
          "output_type": "display_data",
          "data": {
            "image/png": "[encoded data removed]",
            "text/plain": [
              "<Figure size 864x432 with 2 Axes>"
            ]
          },
          "metadata": {
            "tags": []
          }
        }
      ]
    },
    {
      "cell_type": "markdown",
      "metadata": {
        "id": "TNTPDTiEClPC",
        "colab_type": "text"
      },
      "source": [
        "Run the imports necessary to build an autoencoder. Our goal will be to reduce the dimensions from 17 -> 2 and see if any country stand out as very different"
      ]
    },
    {
      "cell_type": "code",
      "metadata": {
        "id": "JB3DSoSqC3Ek",
        "colab_type": "code",
        "colab": {}
      },
      "source": [
        "from tensorflow.keras.models import Sequential\n",
        "from tensorflow.keras.layers import Dense\n",
        "from tensorflow.keras.optimizers import SGD"
      ],
      "execution_count": 0,
      "outputs": []
    },
    {
      "cell_type": "markdown",
      "metadata": {
        "id": "ZHhrZPiuDDwz",
        "colab_type": "text"
      },
      "source": [
        "Auto encoder. In the solutions we built one that went 17 --> 8 --> 4 --> 2"
      ]
    },
    {
      "cell_type": "code",
      "metadata": {
        "id": "SXkDCScVDDQF",
        "colab_type": "code",
        "colab": {}
      },
      "source": [
        "encoder = Sequential()\n",
        "\n",
        "encoder.add(Dense(units = 8, activation= 'relu', input_shape = [17]))\n",
        "encoder.add(Dense(units = 4, activation= 'relu', input_shape = [8]))\n",
        "encoder.add(Dense(units = 2, activation= 'relu', input_shape = [4]))"
      ],
      "execution_count": 0,
      "outputs": []
    },
    {
      "cell_type": "code",
      "metadata": {
        "id": "spxq1Q9rDq1s",
        "colab_type": "code",
        "colab": {}
      },
      "source": [
        "decoder = Sequential()\n",
        "decoder.add(Dense(units=4,activation='relu',input_shape=[2]))\n",
        "decoder.add(Dense(units=8,activation='relu',input_shape=[4]))\n",
        "decoder.add(Dense(units=17,activation='relu',input_shape=[8]))"
      ],
      "execution_count": 0,
      "outputs": []
    },
    {
      "cell_type": "code",
      "metadata": {
        "id": "pdTF4bD5D-ZO",
        "colab_type": "code",
        "colab": {}
      },
      "source": [
        "autoencoder = Sequential([encoder, decoder])"
      ],
      "execution_count": 0,
      "outputs": []
    },
    {
      "cell_type": "code",
      "metadata": {
        "id": "y8cA3xl7EEC8",
        "colab_type": "code",
        "colab": {}
      },
      "source": [
        "autoencoder.compile(loss = 'mse', optimizer = SGD(lr = 1.5), metrics = ['accuracy'])"
      ],
      "execution_count": 0,
      "outputs": []
    },
    {
      "cell_type": "code",
      "metadata": {
        "id": "VjOLkCJ_EJBS",
        "colab_type": "code",
        "colab": {}
      },
      "source": [
        "from sklearn.preprocessing import MinMaxScaler"
      ],
      "execution_count": 0,
      "outputs": []
    },
    {
      "cell_type": "code",
      "metadata": {
        "id": "Wh1gu9IZETBx",
        "colab_type": "code",
        "colab": {}
      },
      "source": [
        "scaler = MinMaxScaler()\n",
        "\n",
        "\n",
        "scaled_df = scaler.fit_transform(df.transpose().values)"
      ],
      "execution_count": 0,
      "outputs": []
    },
    {
      "cell_type": "code",
      "metadata": {
        "id": "u144gINOEdi0",
        "colab_type": "code",
        "colab": {
          "base_uri": "https://localhost:8080/",
          "height": 34
        },
        "outputId": "eea2b836-3b24-45ce-ad65-a1e1c0e97bec"
      },
      "source": [
        "scaled_df.shape"
      ],
      "execution_count": 82,
      "outputs": [
        {
          "output_type": "execute_result",
          "data": {
            "text/plain": [
              "(4, 17)"
            ]
          },
          "metadata": {
            "tags": []
          },
          "execution_count": 82
        }
      ]
    },
    {
      "cell_type": "code",
      "metadata": {
        "id": "hScUk-1tEdb4",
        "colab_type": "code",
        "colab": {
          "base_uri": "https://localhost:8080/",
          "height": 561
        },
        "outputId": "ff1f49b4-f4f7-4ed2-e54c-884c35c93355"
      },
      "source": [
        "autoencoder.fit(scaled_df,scaled_df,epochs=15)"
      ],
      "execution_count": 121,
      "outputs": [
        {
          "output_type": "stream",
          "text": [
            "Train on 4 samples\n",
            "Epoch 1/15\n",
            "4/4 [==============================] - 0s 2ms/sample - loss: 0.1837 - accuracy: 0.0000e+00\n",
            "Epoch 2/15\n",
            "4/4 [==============================] - 0s 823us/sample - loss: 0.1013 - accuracy: 0.2500\n",
            "Epoch 3/15\n",
            "4/4 [==============================] - 0s 1ms/sample - loss: 0.0926 - accuracy: 0.2500\n",
            "Epoch 4/15\n",
            "4/4 [==============================] - 0s 974us/sample - loss: 0.1309 - accuracy: 0.0000e+00\n",
            "Epoch 5/15\n",
            "4/4 [==============================] - 0s 1ms/sample - loss: 0.0808 - accuracy: 0.2500\n",
            "Epoch 6/15\n",
            "4/4 [==============================] - 0s 1ms/sample - loss: 0.0846 - accuracy: 0.2500\n",
            "Epoch 7/15\n",
            "4/4 [==============================] - 0s 1ms/sample - loss: 0.0944 - accuracy: 0.0000e+00\n",
            "Epoch 8/15\n",
            "4/4 [==============================] - 0s 1ms/sample - loss: 0.1557 - accuracy: 0.0000e+00\n",
            "Epoch 9/15\n",
            "4/4 [==============================] - 0s 929us/sample - loss: 0.0789 - accuracy: 0.2500\n",
            "Epoch 10/15\n",
            "4/4 [==============================] - 0s 969us/sample - loss: 0.0795 - accuracy: 0.2500\n",
            "Epoch 11/15\n",
            "4/4 [==============================] - 0s 1ms/sample - loss: 0.0914 - accuracy: 0.2500\n",
            "Epoch 12/15\n",
            "4/4 [==============================] - 0s 932us/sample - loss: 0.1061 - accuracy: 0.0000e+00\n",
            "Epoch 13/15\n",
            "4/4 [==============================] - 0s 961us/sample - loss: 0.1975 - accuracy: 0.0000e+00\n",
            "Epoch 14/15\n",
            "4/4 [==============================] - 0s 1ms/sample - loss: 0.1216 - accuracy: 0.2500\n",
            "Epoch 15/15\n",
            "4/4 [==============================] - 0s 894us/sample - loss: 0.0822 - accuracy: 0.2500\n"
          ],
          "name": "stdout"
        },
        {
          "output_type": "execute_result",
          "data": {
            "text/plain": [
              "<tensorflow.python.keras.callbacks.History at 0x7f0d1dd140f0>"
            ]
          },
          "metadata": {
            "tags": []
          },
          "execution_count": 121
        }
      ]
    },
    {
      "cell_type": "code",
      "metadata": {
        "id": "MrpeInqkE0Xr",
        "colab_type": "code",
        "colab": {}
      },
      "source": [
        "encoded_2dim = encoder.predict(scaled_df)"
      ],
      "execution_count": 0,
      "outputs": []
    },
    {
      "cell_type": "code",
      "metadata": {
        "id": "XN0VOiyIE-1v",
        "colab_type": "code",
        "colab": {
          "base_uri": "https://localhost:8080/",
          "height": 85
        },
        "outputId": "2d832afb-0a5a-4917-a643-4c0525830f4c"
      },
      "source": [
        "encoded_2dim"
      ],
      "execution_count": 126,
      "outputs": [
        {
          "output_type": "execute_result",
          "data": {
            "text/plain": [
              "array([[0.       , 1.5570257],\n",
              "       [0.       , 3.4369614],\n",
              "       [0.       , 0.2876992],\n",
              "       [0.       , 0.       ]], dtype=float32)"
            ]
          },
          "metadata": {
            "tags": []
          },
          "execution_count": 126
        }
      ]
    },
    {
      "cell_type": "code",
      "metadata": {
        "id": "FJpTFTuqFBXw",
        "colab_type": "code",
        "colab": {}
      },
      "source": [
        "results = pd.DataFrame(data = encoded_2dim, index = df.transpose().index, columns = ['C1', 'C2'])"
      ],
      "execution_count": 0,
      "outputs": []
    },
    {
      "cell_type": "code",
      "metadata": {
        "id": "P-7vGMi-FLVY",
        "colab_type": "code",
        "colab": {}
      },
      "source": [
        "\n",
        "results = results.reset_index()"
      ],
      "execution_count": 0,
      "outputs": []
    },
    {
      "cell_type": "code",
      "metadata": {
        "id": "-A6SAzlqF6cC",
        "colab_type": "code",
        "colab": {
          "base_uri": "https://localhost:8080/",
          "height": 296
        },
        "outputId": "5ff2fee1-c84e-46ff-9995-3274af0be091"
      },
      "source": [
        "sns.scatterplot(x = 'C1', y = 'C2', data = results, hue = 'index')"
      ],
      "execution_count": 131,
      "outputs": [
        {
          "output_type": "execute_result",
          "data": {
            "text/plain": [
              "<matplotlib.axes._subplots.AxesSubplot at 0x7f0d1dd24860>"
            ]
          },
          "metadata": {
            "tags": []
          },
          "execution_count": 131
        },
        {
          "output_type": "display_data",
          "data": {
            "image/png": "[encoded data removed]",
            "text/plain": [
              "<Figure size 432x288 with 1 Axes>"
            ]
          },
          "metadata": {
            "tags": []
          }
        }
      ]
    }
  ]
}